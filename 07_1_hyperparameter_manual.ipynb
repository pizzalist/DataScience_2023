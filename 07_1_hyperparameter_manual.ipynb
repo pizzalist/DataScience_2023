{
 "cells": [
  {
   "cell_type": "markdown",
   "metadata": {},
   "source": [
    "### 데이터 불러오기"
   ]
  },
  {
   "cell_type": "code",
   "execution_count": 2,
   "metadata": {},
   "outputs": [],
   "source": [
    "import pandas as pd\n",
    "df=pd.read_csv('https://raw.githubusercontent.com/ralbu85/DataScience_2022S/master/data/auto.csv')"
   ]
  },
  {
   "cell_type": "code",
   "execution_count": 3,
   "metadata": {},
   "outputs": [
    {
     "data": {
      "text/html": [
       "<div>\n",
       "<style scoped>\n",
       "    .dataframe tbody tr th:only-of-type {\n",
       "        vertical-align: middle;\n",
       "    }\n",
       "\n",
       "    .dataframe tbody tr th {\n",
       "        vertical-align: top;\n",
       "    }\n",
       "\n",
       "    .dataframe thead th {\n",
       "        text-align: right;\n",
       "    }\n",
       "</style>\n",
       "<table border=\"1\" class=\"dataframe\">\n",
       "  <thead>\n",
       "    <tr style=\"text-align: right;\">\n",
       "      <th></th>\n",
       "      <th>cylinders</th>\n",
       "      <th>displacement</th>\n",
       "      <th>horsepower</th>\n",
       "      <th>weight</th>\n",
       "      <th>acceleration</th>\n",
       "      <th>model_year</th>\n",
       "      <th>origin</th>\n",
       "      <th>mpg</th>\n",
       "    </tr>\n",
       "  </thead>\n",
       "  <tbody>\n",
       "    <tr>\n",
       "      <th>0</th>\n",
       "      <td>8</td>\n",
       "      <td>307.0</td>\n",
       "      <td>130.0</td>\n",
       "      <td>3504.0</td>\n",
       "      <td>12.0</td>\n",
       "      <td>70</td>\n",
       "      <td>1</td>\n",
       "      <td>18.0</td>\n",
       "    </tr>\n",
       "    <tr>\n",
       "      <th>1</th>\n",
       "      <td>8</td>\n",
       "      <td>350.0</td>\n",
       "      <td>165.0</td>\n",
       "      <td>3693.0</td>\n",
       "      <td>11.5</td>\n",
       "      <td>70</td>\n",
       "      <td>1</td>\n",
       "      <td>15.0</td>\n",
       "    </tr>\n",
       "    <tr>\n",
       "      <th>2</th>\n",
       "      <td>8</td>\n",
       "      <td>318.0</td>\n",
       "      <td>150.0</td>\n",
       "      <td>3436.0</td>\n",
       "      <td>11.0</td>\n",
       "      <td>70</td>\n",
       "      <td>1</td>\n",
       "      <td>18.0</td>\n",
       "    </tr>\n",
       "    <tr>\n",
       "      <th>3</th>\n",
       "      <td>8</td>\n",
       "      <td>304.0</td>\n",
       "      <td>150.0</td>\n",
       "      <td>3433.0</td>\n",
       "      <td>12.0</td>\n",
       "      <td>70</td>\n",
       "      <td>1</td>\n",
       "      <td>16.0</td>\n",
       "    </tr>\n",
       "    <tr>\n",
       "      <th>4</th>\n",
       "      <td>8</td>\n",
       "      <td>302.0</td>\n",
       "      <td>140.0</td>\n",
       "      <td>3449.0</td>\n",
       "      <td>10.5</td>\n",
       "      <td>70</td>\n",
       "      <td>1</td>\n",
       "      <td>17.0</td>\n",
       "    </tr>\n",
       "    <tr>\n",
       "      <th>...</th>\n",
       "      <td>...</td>\n",
       "      <td>...</td>\n",
       "      <td>...</td>\n",
       "      <td>...</td>\n",
       "      <td>...</td>\n",
       "      <td>...</td>\n",
       "      <td>...</td>\n",
       "      <td>...</td>\n",
       "    </tr>\n",
       "    <tr>\n",
       "      <th>387</th>\n",
       "      <td>4</td>\n",
       "      <td>140.0</td>\n",
       "      <td>86.0</td>\n",
       "      <td>2790.0</td>\n",
       "      <td>15.6</td>\n",
       "      <td>82</td>\n",
       "      <td>1</td>\n",
       "      <td>27.0</td>\n",
       "    </tr>\n",
       "    <tr>\n",
       "      <th>388</th>\n",
       "      <td>4</td>\n",
       "      <td>97.0</td>\n",
       "      <td>52.0</td>\n",
       "      <td>2130.0</td>\n",
       "      <td>24.6</td>\n",
       "      <td>82</td>\n",
       "      <td>2</td>\n",
       "      <td>44.0</td>\n",
       "    </tr>\n",
       "    <tr>\n",
       "      <th>389</th>\n",
       "      <td>4</td>\n",
       "      <td>135.0</td>\n",
       "      <td>84.0</td>\n",
       "      <td>2295.0</td>\n",
       "      <td>11.6</td>\n",
       "      <td>82</td>\n",
       "      <td>1</td>\n",
       "      <td>32.0</td>\n",
       "    </tr>\n",
       "    <tr>\n",
       "      <th>390</th>\n",
       "      <td>4</td>\n",
       "      <td>120.0</td>\n",
       "      <td>79.0</td>\n",
       "      <td>2625.0</td>\n",
       "      <td>18.6</td>\n",
       "      <td>82</td>\n",
       "      <td>1</td>\n",
       "      <td>28.0</td>\n",
       "    </tr>\n",
       "    <tr>\n",
       "      <th>391</th>\n",
       "      <td>4</td>\n",
       "      <td>119.0</td>\n",
       "      <td>82.0</td>\n",
       "      <td>2720.0</td>\n",
       "      <td>19.4</td>\n",
       "      <td>82</td>\n",
       "      <td>1</td>\n",
       "      <td>31.0</td>\n",
       "    </tr>\n",
       "  </tbody>\n",
       "</table>\n",
       "<p>392 rows × 8 columns</p>\n",
       "</div>"
      ],
      "text/plain": [
       "     cylinders  displacement  horsepower  weight  acceleration  model_year  \\\n",
       "0            8         307.0       130.0  3504.0          12.0          70   \n",
       "1            8         350.0       165.0  3693.0          11.5          70   \n",
       "2            8         318.0       150.0  3436.0          11.0          70   \n",
       "3            8         304.0       150.0  3433.0          12.0          70   \n",
       "4            8         302.0       140.0  3449.0          10.5          70   \n",
       "..         ...           ...         ...     ...           ...         ...   \n",
       "387          4         140.0        86.0  2790.0          15.6          82   \n",
       "388          4          97.0        52.0  2130.0          24.6          82   \n",
       "389          4         135.0        84.0  2295.0          11.6          82   \n",
       "390          4         120.0        79.0  2625.0          18.6          82   \n",
       "391          4         119.0        82.0  2720.0          19.4          82   \n",
       "\n",
       "     origin   mpg  \n",
       "0         1  18.0  \n",
       "1         1  15.0  \n",
       "2         1  18.0  \n",
       "3         1  16.0  \n",
       "4         1  17.0  \n",
       "..      ...   ...  \n",
       "387       1  27.0  \n",
       "388       2  44.0  \n",
       "389       1  32.0  \n",
       "390       1  28.0  \n",
       "391       1  31.0  \n",
       "\n",
       "[392 rows x 8 columns]"
      ]
     },
     "execution_count": 3,
     "metadata": {},
     "output_type": "execute_result"
    }
   ],
   "source": [
    "df"
   ]
  },
  {
   "cell_type": "markdown",
   "metadata": {},
   "source": [
    "### 데이터나누기"
   ]
  },
  {
   "cell_type": "code",
   "execution_count": 4,
   "metadata": {},
   "outputs": [],
   "source": [
    "df = pd.get_dummies(df,columns=['origin'])\n",
    "y = df['mpg']\n",
    "X = df.drop(columns=['mpg'])"
   ]
  },
  {
   "cell_type": "markdown",
   "metadata": {},
   "source": [
    "### 교차검증"
   ]
  },
  {
   "cell_type": "code",
   "execution_count": 5,
   "metadata": {},
   "outputs": [
    {
     "data": {
      "text/plain": [
       "{'fit_time': array([0.00373125, 0.00226021, 0.00216913, 0.00210094, 0.00205207]),\n",
       " 'score_time': array([0.00187898, 0.00154972, 0.0014739 , 0.00149202, 0.00149417]),\n",
       " 'test_neg_mean_squared_error': array([-11.46283804, -13.85848519,  -8.10628732, -12.09270151,\n",
       "        -11.10674263]),\n",
       " 'train_neg_mean_squared_error': array([-10.59570757,  -9.9817114 , -11.356233  , -10.4559514 ,\n",
       "        -10.65712132]),\n",
       " 'test_r2': array([0.79122457, 0.81693436, 0.85345058, 0.79326894, 0.80055544]),\n",
       " 'train_r2': array([0.82976112, 0.82429999, 0.81678614, 0.82945843, 0.82597343])}"
      ]
     },
     "execution_count": 5,
     "metadata": {},
     "output_type": "execute_result"
    }
   ],
   "source": [
    "from sklearn.linear_model import LinearRegression\n",
    "from sklearn.model_selection import KFold, cross_validate\n",
    "\n",
    "reg= LinearRegression()\n",
    "kfold = KFold(5,shuffle=True)\n",
    "result=cross_validate(estimator=reg, \n",
    "                        X=X, y=y, \n",
    "                        cv=kfold, \n",
    "                        scoring=['neg_mean_squared_error','r2'], \n",
    "                        return_train_score=True)\n",
    "result"
   ]
  },
  {
   "cell_type": "markdown",
   "metadata": {},
   "source": [
    "### 하이퍼패러미터 변경(차수 K)"
   ]
  },
  {
   "cell_type": "code",
   "execution_count": 6,
   "metadata": {},
   "outputs": [
    {
     "name": "stdout",
     "output_type": "stream",
     "text": [
      "1 train -10.607205009720055 0.8253061295023896\n",
      "1 test -11.349723824804954 0.8103488711181356\n",
      "2 train -6.910045047780294 0.8858171196693986\n",
      "2 test -9.822785411964256 0.8346052081329598\n",
      "3 train -6.104209438134539 0.8994430086541383\n",
      "3 test -1381.6842878690616 -22.465862659250455\n",
      "4 train -0.30514556589124686 0.9950371610706641\n",
      "4 test -749203.7933400336 -15152.551470166432\n"
     ]
    }
   ],
   "source": [
    "from sklearn.preprocessing import PolynomialFeatures\n",
    "\n",
    "kfold = KFold(5,shuffle=True)\n",
    "for i in range(1,5):\n",
    "    transformer = PolynomialFeatures(degree=i, interaction_only=False)\n",
    "    X_=transformer.fit_transform(X) #데이터에 차수 추가\n",
    "    reg= LinearRegression()\n",
    "    result=cross_validate(estimator=reg, X=X_, y=y, cv=kfold, scoring=['neg_mean_squared_error','r2'], return_train_score=True)\n",
    "    print(i,'train',result['train_neg_mean_squared_error'].mean(), result['train_r2'].mean())\n",
    "    print(i,'test',result['test_neg_mean_squared_error'].mean(), result['test_r2'].mean())"
   ]
  },
  {
   "cell_type": "markdown",
   "metadata": {},
   "source": [
    "### Regularization"
   ]
  },
  {
   "cell_type": "code",
   "execution_count": 7,
   "metadata": {},
   "outputs": [
    {
     "data": {
      "text/plain": [
       "array([-0.44629638,  0.02286369, -0.01762971, -0.00671945,  0.07651421,\n",
       "        0.77615517, -2.56966676,  0.        ,  0.16691861])"
      ]
     },
     "execution_count": 7,
     "metadata": {},
     "output_type": "execute_result"
    }
   ],
   "source": [
    "from sklearn.linear_model import Ridge, Lasso\n",
    "reg = Lasso(alpha=0.01)\n",
    "reg.fit(X,y)\n",
    "reg.coef_"
   ]
  },
  {
   "cell_type": "markdown",
   "metadata": {},
   "source": [
    "### Lambda의 크기에 따른 계수의 변화를 살펴보자"
   ]
  },
  {
   "cell_type": "code",
   "execution_count": null,
   "metadata": {},
   "outputs": [],
   "source": [
    "import matplotlib.pyplot as plt\n",
    "plt.figure(figsize=(12,8))\n",
    "lambdas = [0,0.0001,0.001,0.01,0.1,1]\n",
    "for i in lambdas:\n",
    "    reg = Lasso(alpha=i)\n",
    "    reg.fit(X,y)\n",
    "    print(i, reg.coef_)"
   ]
  },
  {
   "cell_type": "code",
   "execution_count": 8,
   "metadata": {},
   "outputs": [
    {
     "name": "stdout",
     "output_type": "stream",
     "text": [
      "0 train -10.60616242975533 0.8250592933629616\n",
      "0 test -11.398004469543324 0.8064949186926779\n",
      "0.001 train -10.612301163709967 0.8250738228333434\n",
      "0.001 test -11.318461679191559 0.8084836993816914\n",
      "0.01 train -10.6349526681579 0.8249745194535784\n",
      "0.01 test -11.128519863187346 0.8170716160642343\n",
      "0.1 train -10.730618032336933 0.8230810275710005\n",
      "0.1 test -11.54026281802042 0.8044197757052196\n",
      "0.5 train -11.632795375132098 0.8085291119846959\n",
      "0.5 test -11.919633747696839 0.8026985453480293\n",
      "1 train -11.703533582925187 0.8071684673048398\n",
      "1 test -11.930480164163303 0.800266443686732\n",
      "10 train -18.012494493035586 0.7031497388155461\n",
      "10 test -18.503062867254346 0.6885051489001641\n",
      "100 train -18.67615687293585 0.6924784789017805\n",
      "100 test -18.8093604943327 0.6873445261538974\n"
     ]
    }
   ],
   "source": [
    "import warnings\n",
    "warnings.filterwarnings('ignore')\n",
    "\n",
    "## 하이퍼패러미터 변경(다항식 추가)\n",
    "kfold = KFold(5,shuffle=True)\n",
    "lambdas = [0,0.001,0.01,0.1,0.5,1,10,100]\n",
    "for l in lambdas:    \n",
    "    reg= Lasso(alpha=l)\n",
    "    result=cross_validate(estimator=reg, X=X, y=y, cv=kfold, scoring=['neg_mean_squared_error','r2'], return_train_score=True)\n",
    "    print(l,'train',result['train_neg_mean_squared_error'].mean(), result['train_r2'].mean())\n",
    "    print(l,'test',result['test_neg_mean_squared_error'].mean(), result['test_r2'].mean())"
   ]
  },
  {
   "cell_type": "code",
   "execution_count": null,
   "metadata": {},
   "outputs": [],
   "source": []
  }
 ],
 "metadata": {
  "kernelspec": {
   "display_name": "Python 3.8.16 ('test')",
   "language": "python",
   "name": "python3"
  },
  "language_info": {
   "codemirror_mode": {
    "name": "ipython",
    "version": 3
   },
   "file_extension": ".py",
   "mimetype": "text/x-python",
   "name": "python",
   "nbconvert_exporter": "python",
   "pygments_lexer": "ipython3",
   "version": "3.8.16"
  },
  "orig_nbformat": 4,
  "vscode": {
   "interpreter": {
    "hash": "7582e6fe6d7d4690ca1cc64e6b95ec225783e0b3301cef02d1d9ddc2d9ff5692"
   }
  }
 },
 "nbformat": 4,
 "nbformat_minor": 2
}
