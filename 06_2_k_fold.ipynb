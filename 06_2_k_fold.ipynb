{
 "cells": [
  {
   "cell_type": "code",
   "execution_count": 1,
   "metadata": {},
   "outputs": [],
   "source": [
    "import numpy as np\n",
    "import matplotlib.pyplot as plt\n",
    "np.random.seed(42)"
   ]
  },
  {
   "cell_type": "code",
   "execution_count": 3,
   "metadata": {},
   "outputs": [
    {
     "data": {
      "text/plain": [
       "<matplotlib.collections.PathCollection at 0x7fa6a2d52460>"
      ]
     },
     "execution_count": 3,
     "metadata": {},
     "output_type": "execute_result"
    },
    {
     "data": {
      "image/png": "[encoded data removed]",
      "text/plain": [
       "<Figure size 640x480 with 1 Axes>"
      ]
     },
     "metadata": {},
     "output_type": "display_data"
    }
   ],
   "source": [
    "X = np.linspace(-5,3,100)\n",
    "y = 0.1 * (X-3) * (X+3) * (X+1) * (X+5) + np.random.normal(1,size=100)\n",
    "plt.scatter(X,y)"
   ]
  },
  {
   "cell_type": "code",
   "execution_count": 4,
   "metadata": {},
   "outputs": [
    {
     "name": "stdout",
     "output_type": "stream",
     "text": [
      "========== 1 ==========\n",
      "train_idx:  [20 21 22 23 24 25 26 27 28 29 30 31 32 33 34 35 36 37 38 39 40 41 42 43\n",
      " 44 45 46 47 48 49 50 51 52 53 54 55 56 57 58 59 60 61 62 63 64 65 66 67\n",
      " 68 69 70 71 72 73 74 75 76 77 78 79 80 81 82 83 84 85 86 87 88 89 90 91\n",
      " 92 93 94 95 96 97 98 99]\n",
      "test_idx:  [ 0  1  2  3  4  5  6  7  8  9 10 11 12 13 14 15 16 17 18 19]\n",
      "========== 2 ==========\n",
      "train_idx:  [ 0  1  2  3  4  5  6  7  8  9 10 11 12 13 14 15 16 17 18 19 40 41 42 43\n",
      " 44 45 46 47 48 49 50 51 52 53 54 55 56 57 58 59 60 61 62 63 64 65 66 67\n",
      " 68 69 70 71 72 73 74 75 76 77 78 79 80 81 82 83 84 85 86 87 88 89 90 91\n",
      " 92 93 94 95 96 97 98 99]\n",
      "test_idx:  [20 21 22 23 24 25 26 27 28 29 30 31 32 33 34 35 36 37 38 39]\n",
      "========== 3 ==========\n",
      "train_idx:  [ 0  1  2  3  4  5  6  7  8  9 10 11 12 13 14 15 16 17 18 19 20 21 22 23\n",
      " 24 25 26 27 28 29 30 31 32 33 34 35 36 37 38 39 60 61 62 63 64 65 66 67\n",
      " 68 69 70 71 72 73 74 75 76 77 78 79 80 81 82 83 84 85 86 87 88 89 90 91\n",
      " 92 93 94 95 96 97 98 99]\n",
      "test_idx:  [40 41 42 43 44 45 46 47 48 49 50 51 52 53 54 55 56 57 58 59]\n",
      "========== 4 ==========\n",
      "train_idx:  [ 0  1  2  3  4  5  6  7  8  9 10 11 12 13 14 15 16 17 18 19 20 21 22 23\n",
      " 24 25 26 27 28 29 30 31 32 33 34 35 36 37 38 39 40 41 42 43 44 45 46 47\n",
      " 48 49 50 51 52 53 54 55 56 57 58 59 80 81 82 83 84 85 86 87 88 89 90 91\n",
      " 92 93 94 95 96 97 98 99]\n",
      "test_idx:  [60 61 62 63 64 65 66 67 68 69 70 71 72 73 74 75 76 77 78 79]\n",
      "========== 5 ==========\n",
      "train_idx:  [ 0  1  2  3  4  5  6  7  8  9 10 11 12 13 14 15 16 17 18 19 20 21 22 23\n",
      " 24 25 26 27 28 29 30 31 32 33 34 35 36 37 38 39 40 41 42 43 44 45 46 47\n",
      " 48 49 50 51 52 53 54 55 56 57 58 59 60 61 62 63 64 65 66 67 68 69 70 71\n",
      " 72 73 74 75 76 77 78 79]\n",
      "test_idx:  [80 81 82 83 84 85 86 87 88 89 90 91 92 93 94 95 96 97 98 99]\n"
     ]
    }
   ],
   "source": [
    "from sklearn.model_selection import KFold\n",
    "kfold = KFold(n_splits=5)\n",
    "\n",
    "iteration = 1\n",
    "for train_idx,test_idx in kfold.split(X,y):\n",
    "    print('='*10, iteration, '='*10)\n",
    "    print('train_idx: ',train_idx)\n",
    "    print('test_idx: ',test_idx)\n",
    "    iteration += 1"
   ]
  },
  {
   "cell_type": "code",
   "execution_count": 5,
   "metadata": {},
   "outputs": [
    {
     "name": "stdout",
     "output_type": "stream",
     "text": [
      "========== 1 ==========\n",
      "train_X:  [-3.38383838 -3.3030303  -3.22222222 -3.14141414 -3.06060606 -2.97979798\n",
      " -2.8989899  -2.81818182 -2.73737374 -2.65656566 -2.57575758 -2.49494949\n",
      " -2.41414141 -2.33333333 -2.25252525 -2.17171717 -2.09090909 -2.01010101\n",
      " -1.92929293 -1.84848485 -1.76767677 -1.68686869 -1.60606061 -1.52525253\n",
      " -1.44444444 -1.36363636 -1.28282828 -1.2020202  -1.12121212 -1.04040404\n",
      " -0.95959596 -0.87878788 -0.7979798  -0.71717172 -0.63636364 -0.55555556\n",
      " -0.47474747 -0.39393939 -0.31313131 -0.23232323 -0.15151515 -0.07070707\n",
      "  0.01010101  0.09090909  0.17171717  0.25252525  0.33333333  0.41414141\n",
      "  0.49494949  0.57575758  0.65656566  0.73737374  0.81818182  0.8989899\n",
      "  0.97979798  1.06060606  1.14141414  1.22222222  1.3030303   1.38383838\n",
      "  1.46464646  1.54545455  1.62626263  1.70707071  1.78787879  1.86868687\n",
      "  1.94949495  2.03030303  2.11111111  2.19191919  2.27272727  2.35353535\n",
      "  2.43434343  2.51515152  2.5959596   2.67676768  2.75757576  2.83838384\n",
      "  2.91919192  3.        ]\n",
      "test_X:  [-5.         -4.91919192 -4.83838384 -4.75757576 -4.67676768 -4.5959596\n",
      " -4.51515152 -4.43434343 -4.35353535 -4.27272727 -4.19191919 -4.11111111\n",
      " -4.03030303 -3.94949495 -3.86868687 -3.78787879 -3.70707071 -3.62626263\n",
      " -3.54545455 -3.46464646]\n",
      "train_y:  [ 1.49671415  0.3803972   0.75377419  1.28102335 -0.76394495 -0.99548077\n",
      "  0.63857765 -0.3041005  -1.62728566 -0.66056816 -1.67446631 -1.65076252\n",
      " -0.8864763  -2.95780185 -2.66135294 -1.36951752 -1.67268594 -0.1829085\n",
      " -1.229901   -1.54896335]\n",
      "test_y:  [ 1.49671415  0.3803972   0.75377419  1.28102335 -0.76394495 -0.99548077\n",
      "  0.63857765 -0.3041005  -1.62728566 -0.66056816 -1.67446631 -1.65076252\n",
      " -0.8864763  -2.95780185 -2.66135294 -1.36951752 -1.67268594 -0.1829085\n",
      " -1.229901   -1.54896335]\n",
      "========== 2 ==========\n",
      "train_X:  [-5.         -4.91919192 -4.83838384 -4.75757576 -4.67676768 -4.5959596\n",
      " -4.51515152 -4.43434343 -4.35353535 -4.27272727 -4.19191919 -4.11111111\n",
      " -4.03030303 -3.94949495 -3.86868687 -3.78787879 -3.70707071 -3.62626263\n",
      " -3.54545455 -3.46464646 -1.76767677 -1.68686869 -1.60606061 -1.52525253\n",
      " -1.44444444 -1.36363636 -1.28282828 -1.2020202  -1.12121212 -1.04040404\n",
      " -0.95959596 -0.87878788 -0.7979798  -0.71717172 -0.63636364 -0.55555556\n",
      " -0.47474747 -0.39393939 -0.31313131 -0.23232323 -0.15151515 -0.07070707\n",
      "  0.01010101  0.09090909  0.17171717  0.25252525  0.33333333  0.41414141\n",
      "  0.49494949  0.57575758  0.65656566  0.73737374  0.81818182  0.8989899\n",
      "  0.97979798  1.06060606  1.14141414  1.22222222  1.3030303   1.38383838\n",
      "  1.46464646  1.54545455  1.62626263  1.70707071  1.78787879  1.86868687\n",
      "  1.94949495  2.03030303  2.11111111  2.19191919  2.27272727  2.35353535\n",
      "  2.43434343  2.51515152  2.5959596   2.67676768  2.75757576  2.83838384\n",
      "  2.91919192  3.        ]\n",
      "test_X:  [-3.38383838 -3.3030303  -3.22222222 -3.14141414 -3.06060606 -2.97979798\n",
      " -2.8989899  -2.81818182 -2.73737374 -2.65656566 -2.57575758 -2.49494949\n",
      " -2.41414141 -2.33333333 -2.25252525 -2.17171717 -2.09090909 -2.01010101\n",
      " -1.92929293 -1.84848485]\n",
      "train_y:  [ 1.52160554  0.02775914  0.52127001 -0.77040452  0.30882841  1.15923926\n",
      "  0.08674149  1.79534149  0.99168264  1.46245671  1.30190838  3.89157961\n",
      "  2.14640133  1.2064866   3.17363676  1.19873368  2.67761573  0.53814663\n",
      "  1.17788798  2.68979036]\n",
      "test_y:  [ 1.52160554  0.02775914  0.52127001 -0.77040452  0.30882841  1.15923926\n",
      "  0.08674149  1.79534149  0.99168264  1.46245671  1.30190838  3.89157961\n",
      "  2.14640133  1.2064866   3.17363676  1.19873368  2.67761573  0.53814663\n",
      "  1.17788798  2.68979036]\n",
      "========== 3 ==========\n",
      "train_X:  [-5.         -4.91919192 -4.83838384 -4.75757576 -4.67676768 -4.5959596\n",
      " -4.51515152 -4.43434343 -4.35353535 -4.27272727 -4.19191919 -4.11111111\n",
      " -4.03030303 -3.94949495 -3.86868687 -3.78787879 -3.70707071 -3.62626263\n",
      " -3.54545455 -3.46464646 -3.38383838 -3.3030303  -3.22222222 -3.14141414\n",
      " -3.06060606 -2.97979798 -2.8989899  -2.81818182 -2.73737374 -2.65656566\n",
      " -2.57575758 -2.49494949 -2.41414141 -2.33333333 -2.25252525 -2.17171717\n",
      " -2.09090909 -2.01010101 -1.92929293 -1.84848485 -0.15151515 -0.07070707\n",
      "  0.01010101  0.09090909  0.17171717  0.25252525  0.33333333  0.41414141\n",
      "  0.49494949  0.57575758  0.65656566  0.73737374  0.81818182  0.8989899\n",
      "  0.97979798  1.06060606  1.14141414  1.22222222  1.3030303   1.38383838\n",
      "  1.46464646  1.54545455  1.62626263  1.70707071  1.78787879  1.86868687\n",
      "  1.94949495  2.03030303  2.11111111  2.19191919  2.27272727  2.35353535\n",
      "  2.43434343  2.51515152  2.5959596   2.67676768  2.75757576  2.83838384\n",
      "  2.91919192  3.        ]\n",
      "test_X:  [-1.76767677 -1.68686869 -1.60606061 -1.52525253 -1.44444444 -1.36363636\n",
      " -1.28282828 -1.2020202  -1.12121212 -1.04040404 -0.95959596 -0.87878788\n",
      " -0.7979798  -0.71717172 -0.63636364 -0.55555556 -0.47474747 -0.39393939\n",
      " -0.31313131 -0.23232323]\n",
      "train_y:  [ 3.19635613  2.57193342  2.20501979  1.91690918  0.61399439  1.22435359\n",
      "  1.31253987  2.636805    1.70765468 -0.63637213  1.19219252  0.20390889\n",
      " -0.38687057  0.5838035   0.66715825  0.21446866 -1.924856   -1.77828747\n",
      " -1.53450831 -1.29873139]\n",
      "test_y:  [ 3.19635613  2.57193342  2.20501979  1.91690918  0.61399439  1.22435359\n",
      "  1.31253987  2.636805    1.70765468 -0.63637213  1.19219252  0.20390889\n",
      " -0.38687057  0.5838035   0.66715825  0.21446866 -1.924856   -1.77828747\n",
      " -1.53450831 -1.29873139]\n",
      "========== 4 ==========\n",
      "train_X:  [-5.         -4.91919192 -4.83838384 -4.75757576 -4.67676768 -4.5959596\n",
      " -4.51515152 -4.43434343 -4.35353535 -4.27272727 -4.19191919 -4.11111111\n",
      " -4.03030303 -3.94949495 -3.86868687 -3.78787879 -3.70707071 -3.62626263\n",
      " -3.54545455 -3.46464646 -3.38383838 -3.3030303  -3.22222222 -3.14141414\n",
      " -3.06060606 -2.97979798 -2.8989899  -2.81818182 -2.73737374 -2.65656566\n",
      " -2.57575758 -2.49494949 -2.41414141 -2.33333333 -2.25252525 -2.17171717\n",
      " -2.09090909 -2.01010101 -1.92929293 -1.84848485 -1.76767677 -1.68686869\n",
      " -1.60606061 -1.52525253 -1.44444444 -1.36363636 -1.28282828 -1.2020202\n",
      " -1.12121212 -1.04040404 -0.95959596 -0.87878788 -0.7979798  -0.71717172\n",
      " -0.63636364 -0.55555556 -0.47474747 -0.39393939 -0.31313131 -0.23232323\n",
      "  1.46464646  1.54545455  1.62626263  1.70707071  1.78787879  1.86868687\n",
      "  1.94949495  2.03030303  2.11111111  2.19191919  2.27272727  2.35353535\n",
      "  2.43434343  2.51515152  2.5959596   2.67676768  2.75757576  2.83838384\n",
      "  2.91919192  3.        ]\n",
      "test_X:  [-0.15151515 -0.07070707  0.01010101  0.09090909  0.17171717  0.25252525\n",
      "  0.33333333  0.41414141  0.49494949  0.57575758  0.65656566  0.73737374\n",
      "  0.81818182  0.8989899   0.97979798  1.06060606  1.14141414  1.22222222\n",
      "  1.3030303   1.38383838]\n",
      "train_y:  [ -3.17220944  -3.30605019  -4.66092062  -5.18996388  -3.62341664\n",
      "  -3.52283532  -5.39299778  -4.7558759   -5.83032982  -7.26130329\n",
      "  -6.66808867  -5.89115156  -7.84833885  -6.61193006 -11.13812901\n",
      "  -8.01295159  -9.03574559  -9.67791301  -9.50803601 -11.76953633]\n",
      "test_y:  [ -3.17220944  -3.30605019  -4.66092062  -5.18996388  -3.62341664\n",
      "  -3.52283532  -5.39299778  -4.7558759   -5.83032982  -7.26130329\n",
      "  -6.66808867  -5.89115156  -7.84833885  -6.61193006 -11.13812901\n",
      "  -8.01295159  -9.03574559  -9.67791301  -9.50803601 -11.76953633]\n",
      "========== 5 ==========\n",
      "train_X:  [-5.         -4.91919192 -4.83838384 -4.75757576 -4.67676768 -4.5959596\n",
      " -4.51515152 -4.43434343 -4.35353535 -4.27272727 -4.19191919 -4.11111111\n",
      " -4.03030303 -3.94949495 -3.86868687 -3.78787879 -3.70707071 -3.62626263\n",
      " -3.54545455 -3.46464646 -3.38383838 -3.3030303  -3.22222222 -3.14141414\n",
      " -3.06060606 -2.97979798 -2.8989899  -2.81818182 -2.73737374 -2.65656566\n",
      " -2.57575758 -2.49494949 -2.41414141 -2.33333333 -2.25252525 -2.17171717\n",
      " -2.09090909 -2.01010101 -1.92929293 -1.84848485 -1.76767677 -1.68686869\n",
      " -1.60606061 -1.52525253 -1.44444444 -1.36363636 -1.28282828 -1.2020202\n",
      " -1.12121212 -1.04040404 -0.95959596 -0.87878788 -0.7979798  -0.71717172\n",
      " -0.63636364 -0.55555556 -0.47474747 -0.39393939 -0.31313131 -0.23232323\n",
      " -0.15151515 -0.07070707  0.01010101  0.09090909  0.17171717  0.25252525\n",
      "  0.33333333  0.41414141  0.49494949  0.57575758  0.65656566  0.73737374\n",
      "  0.81818182  0.8989899   0.97979798  1.06060606  1.14141414  1.22222222\n",
      "  1.3030303   1.38383838]\n",
      "test_X:  [1.46464646 1.54545455 1.62626263 1.70707071 1.78787879 1.86868687\n",
      " 1.94949495 2.03030303 2.11111111 2.19191919 2.27272727 2.35353535\n",
      " 2.43434343 2.51515152 2.5959596  2.67676768 2.75757576 2.83838384\n",
      " 2.91919192 3.        ]\n",
      "train_y:  [-10.14148848  -9.65852844  -8.58174098 -10.5681609  -10.79089125\n",
      " -10.35480033  -8.7422105   -9.06303721  -9.58091094  -8.11791044\n",
      "  -8.03016786  -6.56598167  -7.55054574  -6.39157416  -5.56795925\n",
      "  -5.64268882  -2.77252173  -1.57785954  -0.4794358    0.76541287]\n",
      "test_y:  [-10.14148848  -9.65852844  -8.58174098 -10.5681609  -10.79089125\n",
      " -10.35480033  -8.7422105   -9.06303721  -9.58091094  -8.11791044\n",
      "  -8.03016786  -6.56598167  -7.55054574  -6.39157416  -5.56795925\n",
      "  -5.64268882  -2.77252173  -1.57785954  -0.4794358    0.76541287]\n"
     ]
    }
   ],
   "source": [
    "## 루프를 통해 어떻게 인덱스가 생성되는지 확인\n",
    "iteration = 1\n",
    "for train_idx,test_idx in kfold.split(X,y):\n",
    "    print('='*10, iteration, '='*10)\n",
    "    print('train_X: ',X[train_idx]) # X에 대한 훈련데이터\n",
    "    print('test_X: ',X[test_idx]) # X에 대한 테스트데이터\n",
    "    print('train_y: ',y[test_idx]) # y에 대한 훈련데이터\n",
    "    print('test_y: ',y[test_idx]) # y에 대한 테스트데이터\n",
    "    iteration += 1"
   ]
  },
  {
   "cell_type": "code",
   "execution_count": 7,
   "metadata": {},
   "outputs": [
    {
     "name": "stdout",
     "output_type": "stream",
     "text": [
      "========== 1 ==========\n",
      "train_idx:  [ 0  1  2  4  5  6  8  9 10 11 15 16 17 18 19 21 22 23 24 25 27 28 29 31\n",
      " 32 33 35 36 37 38 40 42 43 44 45 46 47 49 50 51 52 53 54 55 57 58 61 62\n",
      " 64 65 66 67 68 69 70 71 72 73 74 75 76 77 78 80 81 82 83 85 86 87 88 90\n",
      " 91 92 93 94 96 97 98 99]\n",
      "test_idx:  [ 3  7 12 13 14 20 26 30 34 39 41 48 56 59 60 63 79 84 89 95]\n",
      "========== 2 ==========\n",
      "train_idx:  [ 0  1  2  3  4  5  7  8 10 11 12 13 14 15 16 18 19 20 21 23 25 26 28 30\n",
      " 31 32 33 34 35 36 37 38 39 41 43 44 46 47 48 50 51 52 53 54 55 56 57 58\n",
      " 59 60 61 62 63 66 67 69 70 74 76 77 78 79 80 81 82 84 85 86 87 88 89 90\n",
      " 91 92 93 94 95 96 98 99]\n",
      "test_idx:  [ 6  9 17 22 24 27 29 40 42 45 49 64 65 68 71 72 73 75 83 97]\n",
      "========== 3 ==========\n",
      "train_idx:  [ 0  1  2  3  4  6  7  8  9 11 12 13 14 16 17 18 20 22 23 24 26 27 29 30\n",
      " 31 34 36 37 38 39 40 41 42 43 45 48 49 50 51 52 53 54 55 56 57 58 59 60\n",
      " 61 62 63 64 65 67 68 69 70 71 72 73 75 77 78 79 80 82 83 84 87 88 89 90\n",
      " 91 92 93 94 95 96 97 98]\n",
      "test_idx:  [ 5 10 15 19 21 25 28 32 33 35 44 46 47 66 74 76 81 85 86 99]\n",
      "========== 4 ==========\n",
      "train_idx:  [ 1  2  3  5  6  7  8  9 10 11 12 13 14 15 17 19 20 21 22 23 24 25 26 27\n",
      " 28 29 30 31 32 33 34 35 36 38 39 40 41 42 43 44 45 46 47 48 49 50 51 55\n",
      " 56 57 58 59 60 61 63 64 65 66 68 71 72 73 74 75 76 78 79 81 83 84 85 86\n",
      " 87 88 89 95 96 97 98 99]\n",
      "test_idx:  [ 0  4 16 18 37 52 53 54 62 67 69 70 77 80 82 90 91 92 93 94]\n",
      "========== 5 ==========\n",
      "train_idx:  [ 0  3  4  5  6  7  9 10 12 13 14 15 16 17 18 19 20 21 22 24 25 26 27 28\n",
      " 29 30 32 33 34 35 37 39 40 41 42 44 45 46 47 48 49 52 53 54 56 59 60 62\n",
      " 63 64 65 66 67 68 69 70 71 72 73 74 75 76 77 79 80 81 82 83 84 85 86 89\n",
      " 90 91 92 93 94 95 97 99]\n",
      "test_idx:  [ 1  2  8 11 23 31 36 38 43 50 51 55 57 58 61 78 87 88 96 98]\n"
     ]
    }
   ],
   "source": [
    "## Shuffle을 지정하여 무작위로 데이터 나누기\n",
    "kfold = KFold(n_splits=5, shuffle=True)\n",
    "iteration = 1\n",
    "for train_idx,test_idx in kfold.split(X,y):\n",
    "    print('='*10, iteration, '='*10)\n",
    "    print('train_idx: ',train_idx)\n",
    "    print('test_idx: ',test_idx)\n",
    "    iteration += 1"
   ]
  },
  {
   "cell_type": "code",
   "execution_count": 8,
   "metadata": {},
   "outputs": [],
   "source": [
    "from sklearn.preprocessing import PolynomialFeatures\n",
    "from sklearn.linear_model import LinearRegression\n",
    "from sklearn.metrics import mean_squared_error\n",
    "import pandas as pd\n",
    "\n",
    "degrees = range(1,20) # 다항식의 범위 지정\n",
    "kfold = KFold(n_splits=5, shuffle=True) # 데이터 쪼개기\n",
    "\n",
    "\n",
    "test_mse=[] ## 5번 반복하면서 테스팅 데이터의 정확도 기록\n",
    "train_mse=[] ## 5번 반복하면서 훈련 데이터의 정확도 기록\n",
    "\n",
    "# K겹 교차검증 수행\n",
    "for train_idx,test_idx in kfold.split(X,y):        \n",
    "        \n",
    "        # K겹 교차검증을 위한 데이터 쪼개기\n",
    "        X_train = X[train_idx].reshape(-1,1) \n",
    "        y_train = y[train_idx]        \n",
    "        X_test = X[test_idx].reshape(-1,1)        \n",
    "        y_test = y[test_idx]           \n",
    "        \n",
    "        # 차수를 번갈아가며 기록하기 위한 딕셔너리 생성\n",
    "        test_mse_temp={}                 \n",
    "        train_mse_temp={}\n",
    "        for i in degrees:    \n",
    "            \n",
    "            reg=LinearRegression() #선형회귀 객체 생성\n",
    "            poly=PolynomialFeatures(degree=i,include_bias=False) #다항식 변환 객체                                   \n",
    "            \n",
    "            reg.fit(poly.fit_transform(X_train),y_train) #학습            \n",
    "            \n",
    "            y_pred_train = reg.predict(poly.fit_transform(X_train)) # 훈련데이터를 입력으로 하여 예측\n",
    "            y_pred_test = reg.predict(poly.fit_transform(X_test)) # 테스팅데이터를 입력으로 하여 예측           \n",
    "            \n",
    "            train_mse_temp[i] = mean_squared_error(y_train,y_pred_train) #훈련데이터의 정확도 계산\n",
    "            test_mse_temp[i] = mean_squared_error(y_test,y_pred_test) # 테스팅데이터의 정확도 계산\n",
    "    \n",
    "        train_mse.append(train_mse_temp)\n",
    "        test_mse.append(test_mse_temp)\n",
    "        "
   ]
  },
  {
   "cell_type": "code",
   "execution_count": 9,
   "metadata": {},
   "outputs": [],
   "source": [
    "train_acc=pd.DataFrame(train_mse)\n",
    "test_acc= pd.DataFrame(test_mse)"
   ]
  },
  {
   "cell_type": "code",
   "execution_count": 10,
   "metadata": {},
   "outputs": [
    {
     "data": {
      "text/html": [
       "<div>\n",
       "<style scoped>\n",
       "    .dataframe tbody tr th:only-of-type {\n",
       "        vertical-align: middle;\n",
       "    }\n",
       "\n",
       "    .dataframe tbody tr th {\n",
       "        vertical-align: top;\n",
       "    }\n",
       "\n",
       "    .dataframe thead th {\n",
       "        text-align: right;\n",
       "    }\n",
       "</style>\n",
       "<table border=\"1\" class=\"dataframe\">\n",
       "  <thead>\n",
       "    <tr style=\"text-align: right;\">\n",
       "      <th></th>\n",
       "      <th>1</th>\n",
       "      <th>2</th>\n",
       "      <th>3</th>\n",
       "      <th>4</th>\n",
       "      <th>5</th>\n",
       "      <th>6</th>\n",
       "      <th>7</th>\n",
       "      <th>8</th>\n",
       "      <th>9</th>\n",
       "      <th>10</th>\n",
       "      <th>11</th>\n",
       "      <th>12</th>\n",
       "      <th>13</th>\n",
       "      <th>14</th>\n",
       "      <th>15</th>\n",
       "      <th>16</th>\n",
       "      <th>17</th>\n",
       "      <th>18</th>\n",
       "      <th>19</th>\n",
       "    </tr>\n",
       "  </thead>\n",
       "  <tbody>\n",
       "    <tr>\n",
       "      <th>0</th>\n",
       "      <td>13.312798</td>\n",
       "      <td>13.252032</td>\n",
       "      <td>8.428931</td>\n",
       "      <td>0.489982</td>\n",
       "      <td>0.540820</td>\n",
       "      <td>0.603775</td>\n",
       "      <td>0.652273</td>\n",
       "      <td>0.535112</td>\n",
       "      <td>0.569453</td>\n",
       "      <td>0.551882</td>\n",
       "      <td>1.147406</td>\n",
       "      <td>0.922182</td>\n",
       "      <td>1.450206</td>\n",
       "      <td>1.763955</td>\n",
       "      <td>6.810156</td>\n",
       "      <td>13.471291</td>\n",
       "      <td>8.652530</td>\n",
       "      <td>12.992606</td>\n",
       "      <td>44.325320</td>\n",
       "    </tr>\n",
       "    <tr>\n",
       "      <th>1</th>\n",
       "      <td>6.677771</td>\n",
       "      <td>5.775681</td>\n",
       "      <td>3.290737</td>\n",
       "      <td>1.112275</td>\n",
       "      <td>1.127807</td>\n",
       "      <td>1.176199</td>\n",
       "      <td>1.207430</td>\n",
       "      <td>1.214926</td>\n",
       "      <td>1.160523</td>\n",
       "      <td>1.159414</td>\n",
       "      <td>1.180749</td>\n",
       "      <td>1.170098</td>\n",
       "      <td>1.162091</td>\n",
       "      <td>1.142939</td>\n",
       "      <td>1.131966</td>\n",
       "      <td>1.148885</td>\n",
       "      <td>1.151970</td>\n",
       "      <td>1.139058</td>\n",
       "      <td>1.135384</td>\n",
       "    </tr>\n",
       "    <tr>\n",
       "      <th>2</th>\n",
       "      <td>6.862529</td>\n",
       "      <td>4.669818</td>\n",
       "      <td>4.178403</td>\n",
       "      <td>0.599248</td>\n",
       "      <td>0.607623</td>\n",
       "      <td>0.607051</td>\n",
       "      <td>0.606790</td>\n",
       "      <td>0.599290</td>\n",
       "      <td>0.645624</td>\n",
       "      <td>0.675378</td>\n",
       "      <td>0.675407</td>\n",
       "      <td>0.675597</td>\n",
       "      <td>0.757349</td>\n",
       "      <td>0.750219</td>\n",
       "      <td>0.759088</td>\n",
       "      <td>0.873283</td>\n",
       "      <td>0.914150</td>\n",
       "      <td>0.855665</td>\n",
       "      <td>1.009602</td>\n",
       "    </tr>\n",
       "    <tr>\n",
       "      <th>3</th>\n",
       "      <td>10.611491</td>\n",
       "      <td>15.145469</td>\n",
       "      <td>7.579471</td>\n",
       "      <td>0.810266</td>\n",
       "      <td>0.819265</td>\n",
       "      <td>0.991753</td>\n",
       "      <td>0.990924</td>\n",
       "      <td>0.953366</td>\n",
       "      <td>0.911793</td>\n",
       "      <td>0.915074</td>\n",
       "      <td>0.932922</td>\n",
       "      <td>0.937332</td>\n",
       "      <td>0.895298</td>\n",
       "      <td>0.924310</td>\n",
       "      <td>1.004691</td>\n",
       "      <td>1.048444</td>\n",
       "      <td>0.964449</td>\n",
       "      <td>0.975938</td>\n",
       "      <td>1.548616</td>\n",
       "    </tr>\n",
       "    <tr>\n",
       "      <th>4</th>\n",
       "      <td>12.259787</td>\n",
       "      <td>10.089004</td>\n",
       "      <td>6.521808</td>\n",
       "      <td>1.223613</td>\n",
       "      <td>1.261830</td>\n",
       "      <td>1.267771</td>\n",
       "      <td>1.341733</td>\n",
       "      <td>1.309791</td>\n",
       "      <td>1.320107</td>\n",
       "      <td>1.360310</td>\n",
       "      <td>1.438535</td>\n",
       "      <td>1.420809</td>\n",
       "      <td>1.399128</td>\n",
       "      <td>1.399203</td>\n",
       "      <td>1.403293</td>\n",
       "      <td>1.410076</td>\n",
       "      <td>1.404093</td>\n",
       "      <td>1.413769</td>\n",
       "      <td>1.453957</td>\n",
       "    </tr>\n",
       "  </tbody>\n",
       "</table>\n",
       "</div>"
      ],
      "text/plain": [
       "          1          2         3         4         5         6         7   \\\n",
       "0  13.312798  13.252032  8.428931  0.489982  0.540820  0.603775  0.652273   \n",
       "1   6.677771   5.775681  3.290737  1.112275  1.127807  1.176199  1.207430   \n",
       "2   6.862529   4.669818  4.178403  0.599248  0.607623  0.607051  0.606790   \n",
       "3  10.611491  15.145469  7.579471  0.810266  0.819265  0.991753  0.990924   \n",
       "4  12.259787  10.089004  6.521808  1.223613  1.261830  1.267771  1.341733   \n",
       "\n",
       "         8         9         10        11        12        13        14  \\\n",
       "0  0.535112  0.569453  0.551882  1.147406  0.922182  1.450206  1.763955   \n",
       "1  1.214926  1.160523  1.159414  1.180749  1.170098  1.162091  1.142939   \n",
       "2  0.599290  0.645624  0.675378  0.675407  0.675597  0.757349  0.750219   \n",
       "3  0.953366  0.911793  0.915074  0.932922  0.937332  0.895298  0.924310   \n",
       "4  1.309791  1.320107  1.360310  1.438535  1.420809  1.399128  1.399203   \n",
       "\n",
       "         15         16        17         18         19  \n",
       "0  6.810156  13.471291  8.652530  12.992606  44.325320  \n",
       "1  1.131966   1.148885  1.151970   1.139058   1.135384  \n",
       "2  0.759088   0.873283  0.914150   0.855665   1.009602  \n",
       "3  1.004691   1.048444  0.964449   0.975938   1.548616  \n",
       "4  1.403293   1.410076  1.404093   1.413769   1.453957  "
      ]
     },
     "execution_count": 10,
     "metadata": {},
     "output_type": "execute_result"
    }
   ],
   "source": [
    "test_acc"
   ]
  },
  {
   "cell_type": "code",
   "execution_count": 13,
   "metadata": {},
   "outputs": [
    {
     "data": {
      "text/plain": [
       "1     9.944875\n",
       "2     9.786401\n",
       "3     5.999870\n",
       "4     0.847077\n",
       "5     0.871469\n",
       "6     0.929310\n",
       "7     0.959830\n",
       "8     0.922497\n",
       "9     0.921500\n",
       "10    0.932412\n",
       "11    1.075004\n",
       "12    1.025204\n",
       "13    1.132814\n",
       "14    1.196125\n",
       "15    2.221839\n",
       "16    3.590396\n",
       "17    2.617439\n",
       "18    3.475407\n",
       "19    9.894576\n",
       "dtype: float64"
      ]
     },
     "execution_count": 13,
     "metadata": {},
     "output_type": "execute_result"
    }
   ],
   "source": [
    "\n",
    "train_acc_mean = train_acc.apply(np.mean, axis=0) #행을 가로질러 평균 계산\n",
    "test_acc_mean = test_acc.apply(np.mean, axis=0)\n",
    "test_acc_mean"
   ]
  },
  {
   "cell_type": "code",
   "execution_count": 15,
   "metadata": {},
   "outputs": [
    {
     "data": {
      "text/plain": [
       "<matplotlib.legend.Legend at 0x7fa6a67f3eb0>"
      ]
     },
     "execution_count": 15,
     "metadata": {},
     "output_type": "execute_result"
    },
    {
     "data": {
      "image/png": "[encoded data removed]",
      "text/plain": [
       "<Figure size 1200x800 with 1 Axes>"
      ]
     },
     "metadata": {},
     "output_type": "display_data"
    }
   ],
   "source": [
    "import matplotlib.pyplot as plt\n",
    "plt.figure(figsize=(12,8))\n",
    "plt.plot(degrees, test_acc_mean, label ='test')\n",
    "plt.plot(degrees, train_acc_mean, label = 'train')\n",
    "plt.legend()"
   ]
  },
  {
   "cell_type": "code",
   "execution_count": 16,
   "metadata": {},
   "outputs": [],
   "source": [
    "from sklearn.model_selection import cross_validate\n",
    "reg =LinearRegression()\n",
    "kfold = KFold(n_splits=5, shuffle=True)\n",
    "metrics = ['neg_mean_absolute_error','neg_mean_squared_error','r2']\n",
    "\n",
    "result=cross_validate(X=X.reshape(-1,1),y=y,\n",
    "                       estimator=reg,\n",
    "                       scoring=metrics,\n",
    "                       cv=kfold)"
   ]
  },
  {
   "cell_type": "code",
   "execution_count": 17,
   "metadata": {},
   "outputs": [
    {
     "data": {
      "text/plain": [
       "{'fit_time': array([0.00157022, 0.00166702, 0.00092864, 0.00091219, 0.00087023]),\n",
       " 'score_time': array([0.0013659 , 0.00125313, 0.0010643 , 0.000911  , 0.00090694]),\n",
       " 'test_neg_mean_absolute_error': array([-2.4533029 , -2.95113809, -2.73585775, -2.90193801, -2.18064996]),\n",
       " 'test_neg_mean_squared_error': array([ -9.50236222, -12.49168502, -10.06875182,  -9.8919924 ,\n",
       "         -6.72989798]),\n",
       " 'test_r2': array([-0.02537647,  0.36107309,  0.53887083,  0.48334255,  0.44359004])}"
      ]
     },
     "execution_count": 17,
     "metadata": {},
     "output_type": "execute_result"
    }
   ],
   "source": [
    "result"
   ]
  },
  {
   "cell_type": "markdown",
   "metadata": {},
   "source": [
    "### 파이프라이닝"
   ]
  },
  {
   "cell_type": "code",
   "execution_count": 18,
   "metadata": {},
   "outputs": [
    {
     "name": "stdout",
     "output_type": "stream",
     "text": [
      "Best hyperparameters: {'polynomialfeatures__degree': 4}\n",
      "Best score: 3.354555098460861\n"
     ]
    }
   ],
   "source": [
    "from sklearn.model_selection import GridSearchCV, cross_val_score\n",
    "from sklearn.linear_model import LinearRegression\n",
    "from sklearn.preprocessing import PolynomialFeatures\n",
    "from sklearn.pipeline import make_pipeline\n",
    "import numpy as np\n",
    "\n",
    "param_grid = {'polynomialfeatures__degree': range(1,20)}\n",
    "pipe = make_pipeline(PolynomialFeatures(), LinearRegression())\n",
    "grid_search = GridSearchCV(pipe, param_grid, cv=5, scoring='neg_mean_squared_error', return_train_score=True)\n",
    "grid_search.fit(X.reshape(-1,1), y)\n",
    "\n",
    "print(\"Best hyperparameters:\", grid_search.best_params_)\n",
    "print(\"Best score:\", -grid_search.best_score_)"
   ]
  }
 ],
 "metadata": {
  "kernelspec": {
   "display_name": "Python 3.8.16 ('test')",
   "language": "python",
   "name": "python3"
  },
  "language_info": {
   "codemirror_mode": {
    "name": "ipython",
    "version": 3
   },
   "file_extension": ".py",
   "mimetype": "text/x-python",
   "name": "python",
   "nbconvert_exporter": "python",
   "pygments_lexer": "ipython3",
   "version": "3.8.16"
  },
  "orig_nbformat": 4,
  "vscode": {
   "interpreter": {
    "hash": "7582e6fe6d7d4690ca1cc64e6b95ec225783e0b3301cef02d1d9ddc2d9ff5692"
   }
  }
 },
 "nbformat": 4,
 "nbformat_minor": 2
}
